{
 "cells": [
  {
   "cell_type": "markdown",
   "metadata": {},
   "source": [
    "# [Instructions for this project](https://automatetheboringstuff.com/2e/chapter9/)"
   ]
  },
  {
   "cell_type": "code",
   "execution_count": 1,
   "metadata": {},
   "outputs": [
    {
     "name": "stdout",
     "output_type": "stream",
     "text": [
      "Please enter an adjective.muscular\n",
      "Please enter a noun.taco truck\n",
      "Please enter a verb.ate 12 tacos\n",
      "Please enter a noun.octopus\n",
      "The muscular panda walked to the taco truck and then ate 12 tacos. A nearby octopus was\n",
      "unaffected by these events.\n"
     ]
    }
   ],
   "source": [
    "# Project: MadLib\n",
    "\n",
    "import os\n",
    "from pathlib import Path\n",
    "import pyinputplus as pyip\n",
    "\n",
    "madPath = str(Path(r'C:\\Users\\Administrator.Sergio-PC\\Documents\\Python Scripts\\Automate The Boring Stuff With Python\\Jupyter Notebooks and Projects\\Mad Lib'))\n",
    "\n",
    "os.chdir(madPath)\n",
    "\n",
    "# Read in the text file\n",
    "\n",
    "libFile = open('MadLib.txt')\n",
    "startContent = libFile.read()\n",
    "\n",
    "# Create lsit of words\n",
    "listContent = startContent.split(' ')\n",
    "\n",
    "# Iterate over list, replace placeholders with input\n",
    "Endlist = []\n",
    "\n",
    "for word in listContent:\n",
    "    ending = ''\n",
    "    for char in range(len(word)):\n",
    "        if word[-1] in '.\\n':\n",
    "            ending = word[-1] \n",
    "            word = word.strip('.,\\n')\n",
    "    \n",
    "    if word == 'ADJECTIVE':\n",
    "        adjective = pyip.inputStr('Please enter an adjective.')\n",
    "        word = adjective\n",
    "        \n",
    "    elif word == 'NOUN':\n",
    "        noun = pyip.inputStr('Please enter a noun.')\n",
    "        word = noun\n",
    "        \n",
    "    elif word == 'ADVERB':\n",
    "        adverb = pyip.inputStr('Please enter an adverb.')\n",
    "        word = adverb\n",
    "        \n",
    "    elif word == 'VERB':\n",
    "        verb = pyip.inputStr('Please enter a verb.')\n",
    "        word = verb\n",
    "       \n",
    "    word = word + ending\n",
    "    \n",
    "    Endlist.append(word)\n",
    "    \n",
    "# Join list\n",
    "final_Draft = ' '.join(Endlist)\n",
    "\n",
    "# Print new text\n",
    "print(final_Draft)\n",
    "\n",
    "# Save to new file\n",
    "\n",
    "madLibFile = open(f'Madlibcomplete.txt', 'w')\n",
    "madLibFile.write(final_Draft)\n",
    "madLibFile.close()"
   ]
  },
  {
   "cell_type": "code",
   "execution_count": null,
   "metadata": {},
   "outputs": [],
   "source": []
  }
 ],
 "metadata": {
  "kernelspec": {
   "display_name": "ibm_project",
   "language": "python",
   "name": "ibm_project"
  },
  "language_info": {
   "codemirror_mode": {
    "name": "ipython",
    "version": 3
   },
   "file_extension": ".py",
   "mimetype": "text/x-python",
   "name": "python",
   "nbconvert_exporter": "python",
   "pygments_lexer": "ipython3",
   "version": "3.7.9"
  }
 },
 "nbformat": 4,
 "nbformat_minor": 4
}
